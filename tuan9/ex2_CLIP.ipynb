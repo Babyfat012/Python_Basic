{
 "cells": [
  {
   "cell_type": "code",
   "execution_count": null,
   "id": "40ab984e",
   "metadata": {},
   "outputs": [],
   "source": [
    "# clip_retrieval_basic.py\n",
    "import glob, torch, requests\n",
    "from PIL import Image\n",
    "import open_clip\n",
    "\n",
    "DEVICE = \"cuda\" if torch.cuda.is_available() else \"cpu\"\n",
    "\n",
    "# 1) Model\n",
    "model, _, preprocess = open_clip.create_model_and_transforms(\"ViT-B-32\", pretrained=\"openai\")\n",
    "tokenizer = open_clip.get_tokenizer(\"ViT-B-32\")\n",
    "model = model.to(DEVICE).eval()\n",
    "\n",
    "# 2) Ảnh: dùng 3 ảnh từ web (bạn có thể thay thành thư mục local)\n",
    "urls = [\n",
    "    \"https://ultralytics.com/images/bus.jpg\",\n",
    "    \"https://ultralytics.com/images/zidane.jpg\",\n",
    "    \"https://ultralytics.com/images/bicycle.jpg\"\n",
    "]\n",
    "images = [preprocess(Image.open(requests.get(u, stream=True).raw).convert(\"RGB\")) for u in urls]\n",
    "images = torch.stack(images).to(DEVICE)   # [N,3,224,224]\n",
    "\n",
    "# 3) Câu truy vấn (text queries)\n",
    "queries = [\n",
    "    \"một chiếc xe buýt màu vàng\",\n",
    "    \"một người đang chơi bóng đá\",\n",
    "    \"một chiếc xe đạp trên đường phố\"\n",
    "]\n",
    "text = tokenizer(queries).to(DEVICE)\n",
    "\n",
    "# 4) Tính embedding & chuẩn hoá\n",
    "with torch.no_grad():\n",
    "    img_feat = model.encode_image(images);  img_feat = img_feat / img_feat.norm(dim=-1, keepdim=True)  # [N,D]\n",
    "    txt_feat = model.encode_text(text);     txt_feat = txt_feat / txt_feat.norm(dim=-1, keepdim=True)  # [M,D]\n",
    "\n",
    "# 5) Text→Image: tìm ảnh phù hợp với từng câu\n",
    "scores = txt_feat @ img_feat.T   # [M, N]\n",
    "print(\"\\nText → Image (Top-1):\")\n",
    "for qi, q in enumerate(queries):\n",
    "    top = int(scores[qi].argmax().item())\n",
    "    print(f\"- \\\"{q}\\\"  -->  best image: {urls[top]}\")\n",
    "\n",
    "# 6) Image→Text: tìm câu mô tả phù hợp với mỗi ảnh\n",
    "scores2 = img_feat @ txt_feat.T  # [N, M]\n",
    "print(\"\\nImage → Text (Top-1):\")\n",
    "for ii, u in enumerate(urls):\n",
    "    top = int(scores2[ii].argmax().item())\n",
    "    print(f\"- {u}  -->  best caption: \\\"{queries[top]}\\\"\")\n"
   ]
  }
 ],
 "metadata": {
  "language_info": {
   "name": "python"
  }
 },
 "nbformat": 4,
 "nbformat_minor": 5
}
