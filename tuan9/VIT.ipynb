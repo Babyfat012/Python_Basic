{
 "cells": [
  {
   "cell_type": "code",
   "execution_count": null,
   "id": "3ffdfbaf",
   "metadata": {},
   "outputs": [],
   "source": [
    "# vit_infer_basic.py\n",
    "import torch\n",
    "from torchvision import models\n",
    "from torchvision.models import ViT_B_16_Weights\n",
    "\n",
    "DEVICE = \"cuda\" if torch.cuda.is_available() else \"cpu\"\n",
    "\n",
    "# 1) Tải ViT-B/16 pretrained\n",
    "weights = ViT_B_16_Weights.DEFAULT\n",
    "vit = models.vit_b_16(weights=weights).to(DEVICE)\n",
    "vit.eval()\n",
    "\n",
    "# 2) Transform chuẩn theo trọng số (resize 224, normalize…)\n",
    "preprocess = weights.transforms()\n",
    "\n",
    "# 3) Lấy một ảnh mẫu (dùng từ weights cho nhanh) và dự đoán\n",
    "from PIL import Image\n",
    "img = Image.open(weights.meta[\"categories_img\"]) if \"categories_img\" in weights.meta else Image.open(requests.get(\"https://ultralytics.com/images/bus.jpg\", stream=True).raw)  # fallback nếu thiếu\n",
    "\n",
    "x = preprocess(img).unsqueeze(0).to(DEVICE)  # [1,3,224,224]\n",
    "with torch.no_grad():\n",
    "    logits = vit(x)                           # [1,1000]\n",
    "probs = logits.softmax(dim=-1)[0]\n",
    "\n",
    "# 4) In Top-5\n",
    "idx2name = weights.meta[\"categories\"]\n",
    "top5 = probs.topk(5)\n",
    "for p, i in zip(top5.values.tolist(), top5.indices.tolist()):\n",
    "    print(f\"{idx2name[i]}: {p:.3f}\")\n"
   ]
  }
 ],
 "metadata": {
  "language_info": {
   "name": "python"
  }
 },
 "nbformat": 4,
 "nbformat_minor": 5
}
