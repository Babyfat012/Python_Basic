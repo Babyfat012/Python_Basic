{
 "cells": [
  {
   "cell_type": "code",
   "execution_count": null,
   "id": "e36d0bfa",
   "metadata": {},
   "outputs": [],
   "source": [
    "from torchvision import datasets\n",
    "train_ds = datasets.CIFAR10(root=\"./data\", train=True, download=True, transform=preprocess)\n",
    "val_ds   = datasets.CIFAR10(root=\"./data\", train=False, download=True, transform=preprocess)\n",
    "\n",
    "NUM_CLASSES = 10\n",
    "in_feats = model.heads.head.in_features\n",
    "model.heads.head = nn.Linear(in_feats, NUM_CLASSES)\n"
   ]
  }
 ],
 "metadata": {
  "language_info": {
   "name": "python"
  }
 },
 "nbformat": 4,
 "nbformat_minor": 5
}
