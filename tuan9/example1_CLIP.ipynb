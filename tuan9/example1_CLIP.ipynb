{
 "cells": [
  {
   "cell_type": "code",
   "execution_count": null,
   "id": "70d8526c",
   "metadata": {},
   "outputs": [],
   "source": [
    "# clip_zeroshot_basic.py\n",
    "import torch, requests\n",
    "from PIL import Image\n",
    "import open_clip\n",
    "\n",
    "DEVICE = \"cuda\" if torch.cuda.is_available() else \"cpu\"\n",
    "\n",
    "# 1) Nạp model & preprocess\n",
    "model, _, preprocess = open_clip.create_model_and_transforms(\n",
    "    model_name=\"ViT-B-32\", pretrained=\"openai\"   # hoặc pretrained=\"laion2b_s34b_b79k\"\n",
    ")\n",
    "tokenizer = open_clip.get_tokenizer(\"ViT-B-32\")\n",
    "model = model.to(DEVICE).eval()\n",
    "\n",
    "# 2) Ảnh demo (URL) — có thể thay bằng đường dẫn local: Image.open(\"path/to.jpg\")\n",
    "url = \"https://ultralytics.com/images/bus.jpg\"\n",
    "img = Image.open(requests.get(url, stream=True).raw).convert(\"RGB\")\n",
    "image = preprocess(img).unsqueeze(0).to(DEVICE)   # [1,3,224,224]\n",
    "\n",
    "# 3) Tập nhãn văn bản (tiếng Việt)\n",
    "labels = [\"con chó\", \"con mèo\", \"chiếc xe buýt\", \"ô tô\", \"xe máy\", \"con người\"]\n",
    "# Prompting nhẹ: “a photo of a {label}”\n",
    "prompts = [f\"a photo of a {t}\" for t in labels]\n",
    "text = tokenizer(prompts).to(DEVICE)\n",
    "\n",
    "# 4) Mã hoá & tính độ tương đồng cosine\n",
    "with torch.no_grad(), torch.autocast(device_type=DEVICE if DEVICE==\"cuda\" else \"cpu\", enabled=(DEVICE==\"cuda\")):\n",
    "    image_features = model.encode_image(image)       # [1, D]\n",
    "    text_features  = model.encode_text(text)         # [L, D]\n",
    "    image_features = image_features / image_features.norm(dim=-1, keepdim=True)\n",
    "    text_features  = text_features / text_features.norm(dim=-1, keepdim=True)\n",
    "    logits = (image_features @ text_features.T).squeeze(0)  # [L]\n",
    "\n",
    "probs = logits.softmax(dim=-1)\n",
    "topk = probs.topk(5)\n",
    "print(\"\\nTop-5 dự đoán:\")\n",
    "for p, i in zip(topk.values.tolist(), topk.indices.tolist()):\n",
    "    print(f\"- {labels[i]}: {p:.3f}\")\n"
   ]
  }
 ],
 "metadata": {
  "language_info": {
   "name": "python"
  }
 },
 "nbformat": 4,
 "nbformat_minor": 5
}
