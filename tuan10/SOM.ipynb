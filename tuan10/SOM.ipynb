{
 "cells": [
  {
   "cell_type": "code",
   "execution_count": null,
   "id": "21ac4866",
   "metadata": {},
   "outputs": [],
   "source": [
    "# som_minisom_basic.py\n",
    "# pip install minisom\n",
    "import numpy as np\n",
    "from sklearn.datasets import load_iris\n",
    "from minisom import MiniSom\n",
    "\n",
    "# ===== 1) Dữ liệu: Iris =====\n",
    "data = load_iris()\n",
    "X = data.data\n",
    "y = data.target\n",
    "\n",
    "# Chuẩn hoá [0,1] theo từng feature\n",
    "X = (X - X.min(0)) / (X.max(0) - X.min(0) + 1e-8)\n",
    "\n",
    "# ===== 2) Khởi tạo & Train SOM =====\n",
    "m, n = 12, 12\n",
    "som = MiniSom(x=m, y=n, input_len=X.shape[1], sigma=2.0, learning_rate=0.5, random_seed=42,\n",
    "              neighborhood_function='gaussian')\n",
    "som.random_weights_init(X)\n",
    "som.train_random(X, num_iteration=2000)  # huấn luyện ngẫu nhiên 2000 bước\n",
    "\n",
    "# ===== 3) BMU cho từng điểm + U-Matrix =====\n",
    "bmus = np.array([som.winner(x) for x in X])  # list (i,j)\n",
    "u_matrix = som.distance_map()                 # [m,n] – khoảng cách trung bình đến láng giềng\n",
    "\n",
    "# ===== 4) (tuỳ chọn) Vẽ bản đồ =====\n",
    "if __name__ == \"__main__\":\n",
    "    import matplotlib.pyplot as plt\n",
    "    plt.figure(figsize=(6,5))\n",
    "    # Vẽ U-Matrix làm nền (khoảng cách cao -> biên cụm sáng hơn)\n",
    "    plt.imshow(u_matrix.T, cmap=\"bone_r\", origin=\"lower\")\n",
    "    # Rải điểm theo BMU, tô màu theo nhãn thật để quan sát\n",
    "    colors = [\"tab:blue\", \"tab:orange\", \"tab:green\"]\n",
    "    for cls in np.unique(y):\n",
    "        idx = np.where(y == cls)[0]\n",
    "        pts = bmus[idx]\n",
    "        plt.scatter(pts[:,0], pts[:,1], s=12, c=colors[cls], label=data.target_names[cls])\n",
    "    plt.title(\"SOM on Iris – U-Matrix + BMU\")\n",
    "    plt.legend(loc=\"upper right\", fontsize=8)\n",
    "    plt.tight_layout(); plt.show()\n"
   ]
  }
 ],
 "metadata": {
  "language_info": {
   "name": "python"
  }
 },
 "nbformat": 4,
 "nbformat_minor": 5
}
