{
 "cells": [
  {
   "cell_type": "code",
   "execution_count": null,
   "id": "ddfdbff1",
   "metadata": {},
   "outputs": [],
   "source": [
    "# yolo_basic_example.py\n",
    "from ultralytics import YOLO\n",
    "\n",
    "# 1. Tải model YOLOv8 pretrained (COCO dataset)\n",
    "model = YOLO(\"yolov8n.pt\")  # bản nhỏ, nhanh\n",
    "\n",
    "# 2. Dự đoán (inference) trên 1 ảnh có sẵn\n",
    "results = model(\"https://ultralytics.com/images/bus.jpg\", save=True, show=True)\n",
    "\n",
    "# 3. In kết quả chi tiết\n",
    "for r in results:\n",
    "    boxes = r.boxes.xyxy  # toạ độ [x1, y1, x2, y2]\n",
    "    cls = r.boxes.cls      # nhãn (class index)\n",
    "    conf = r.boxes.conf    # độ tin cậy (confidence)\n",
    "    names = model.names    # tên class\n",
    "    for i in range(len(cls)):\n",
    "        print(f\"{names[int(cls[i])]}: {conf[i]:.2f}, box={boxes[i].tolist()}\")\n"
   ]
  }
 ],
 "metadata": {
  "language_info": {
   "name": "python"
  }
 },
 "nbformat": 4,
 "nbformat_minor": 5
}
