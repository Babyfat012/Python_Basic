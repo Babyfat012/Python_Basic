{
  "nbformat": 4,
  "nbformat_minor": 0,
  "metadata": {
    "colab": {
      "provenance": []
    },
    "kernelspec": {
      "name": "python3",
      "display_name": "Python 3"
    },
    "language_info": {
      "name": "python"
    }
  },
  "cells": [
    {
      "cell_type": "code",
      "execution_count": null,
      "metadata": {
        "colab": {
          "base_uri": "https://localhost:8080/"
        },
        "id": "moa6dqV1zRXq",
        "outputId": "d76748bb-134f-4b38-f85e-8712989f7dd3"
      },
      "outputs": [
        {
          "output_type": "stream",
          "name": "stdout",
          "text": [
            "Requirement already satisfied: torch in /usr/local/lib/python3.12/dist-packages (2.8.0+cu126)\n",
            "Requirement already satisfied: torchvision in /usr/local/lib/python3.12/dist-packages (0.23.0+cu126)\n",
            "Requirement already satisfied: pillow in /usr/local/lib/python3.12/dist-packages (11.3.0)\n",
            "Requirement already satisfied: filelock in /usr/local/lib/python3.12/dist-packages (from torch) (3.19.1)\n",
            "Requirement already satisfied: typing-extensions>=4.10.0 in /usr/local/lib/python3.12/dist-packages (from torch) (4.15.0)\n",
            "Requirement already satisfied: setuptools in /usr/local/lib/python3.12/dist-packages (from torch) (75.2.0)\n",
            "Requirement already satisfied: sympy>=1.13.3 in /usr/local/lib/python3.12/dist-packages (from torch) (1.13.3)\n",
            "Requirement already satisfied: networkx in /usr/local/lib/python3.12/dist-packages (from torch) (3.5)\n",
            "Requirement already satisfied: jinja2 in /usr/local/lib/python3.12/dist-packages (from torch) (3.1.6)\n",
            "Requirement already satisfied: fsspec in /usr/local/lib/python3.12/dist-packages (from torch) (2025.3.0)\n",
            "Requirement already satisfied: nvidia-cuda-nvrtc-cu12==12.6.77 in /usr/local/lib/python3.12/dist-packages (from torch) (12.6.77)\n",
            "Requirement already satisfied: nvidia-cuda-runtime-cu12==12.6.77 in /usr/local/lib/python3.12/dist-packages (from torch) (12.6.77)\n",
            "Requirement already satisfied: nvidia-cuda-cupti-cu12==12.6.80 in /usr/local/lib/python3.12/dist-packages (from torch) (12.6.80)\n",
            "Requirement already satisfied: nvidia-cudnn-cu12==9.10.2.21 in /usr/local/lib/python3.12/dist-packages (from torch) (9.10.2.21)\n",
            "Requirement already satisfied: nvidia-cublas-cu12==12.6.4.1 in /usr/local/lib/python3.12/dist-packages (from torch) (12.6.4.1)\n",
            "Requirement already satisfied: nvidia-cufft-cu12==11.3.0.4 in /usr/local/lib/python3.12/dist-packages (from torch) (11.3.0.4)\n",
            "Requirement already satisfied: nvidia-curand-cu12==10.3.7.77 in /usr/local/lib/python3.12/dist-packages (from torch) (10.3.7.77)\n",
            "Requirement already satisfied: nvidia-cusolver-cu12==11.7.1.2 in /usr/local/lib/python3.12/dist-packages (from torch) (11.7.1.2)\n",
            "Requirement already satisfied: nvidia-cusparse-cu12==12.5.4.2 in /usr/local/lib/python3.12/dist-packages (from torch) (12.5.4.2)\n",
            "Requirement already satisfied: nvidia-cusparselt-cu12==0.7.1 in /usr/local/lib/python3.12/dist-packages (from torch) (0.7.1)\n",
            "Requirement already satisfied: nvidia-nccl-cu12==2.27.3 in /usr/local/lib/python3.12/dist-packages (from torch) (2.27.3)\n",
            "Requirement already satisfied: nvidia-nvtx-cu12==12.6.77 in /usr/local/lib/python3.12/dist-packages (from torch) (12.6.77)\n",
            "Requirement already satisfied: nvidia-nvjitlink-cu12==12.6.85 in /usr/local/lib/python3.12/dist-packages (from torch) (12.6.85)\n",
            "Requirement already satisfied: nvidia-cufile-cu12==1.11.1.6 in /usr/local/lib/python3.12/dist-packages (from torch) (1.11.1.6)\n",
            "Requirement already satisfied: triton==3.4.0 in /usr/local/lib/python3.12/dist-packages (from torch) (3.4.0)\n",
            "Requirement already satisfied: numpy in /usr/local/lib/python3.12/dist-packages (from torchvision) (2.0.2)\n",
            "Requirement already satisfied: mpmath<1.4,>=1.1.0 in /usr/local/lib/python3.12/dist-packages (from sympy>=1.13.3->torch) (1.3.0)\n",
            "Requirement already satisfied: MarkupSafe>=2.0 in /usr/local/lib/python3.12/dist-packages (from jinja2->torch) (3.0.3)\n",
            "Ảnh input: /content/images.jpg\n",
            "Top-5 dự đoán:\n",
            "- screen\n",
            "- rotisserie\n",
            "- monitor\n",
            "- safe\n",
            "- entertainment center\n"
          ]
        }
      ],
      "source": [
        "!pip install torch torchvision pillow\n",
        "\n",
        "import torch\n",
        "from torchvision.models import vgg16, VGG16_Weights\n",
        "from PIL import Image\n",
        "\n",
        "# 1. Load model với weight chuẩn\n",
        "weights = VGG16_Weights.DEFAULT\n",
        "model = vgg16(weights=weights)\n",
        "model.eval()\n",
        "\n",
        "# 2. Preprocess auto từ weights\n",
        "preprocess = weights.transforms()\n",
        "\n",
        "# 3. Đọc ảnh từ thư mục content (ảnh bạn đã upload)\n",
        "img_path = \"/content/images.jpg\"\n",
        "img = Image.open(img_path).convert(\"RGB\")\n",
        "\n",
        "# 4. Chuyển ảnh thành tensor\n",
        "img_tensor = preprocess(img).unsqueeze(0)\n",
        "\n",
        "# 5. Dự đoán\n",
        "with torch.no_grad():\n",
        "    outputs = model(img_tensor)\n",
        "    _, predicted = outputs.topk(5, 1, True, True)\n",
        "\n",
        "# 6. In kết quả\n",
        "categories = weights.meta[\"categories\"]\n",
        "print(\"Ảnh input:\", img_path)\n",
        "print(\"Top-5 dự đoán:\")\n",
        "for idx in predicted[0]:\n",
        "    print(f\"- {categories[idx]}\")\n",
        "\n",
        "\n"
      ]
    },
    {
      "cell_type": "code",
      "source": [
        "from google.colab import drive\n",
        "drive.mount('/content/drive')"
      ],
      "metadata": {
        "id": "iaA9f1a43qh_"
      },
      "execution_count": null,
      "outputs": []
    },
    {
      "cell_type": "markdown",
      "source": [
        "# Mục mới"
      ],
      "metadata": {
        "id": "EgA4nCod0iLm"
      }
    },
    {
      "cell_type": "code",
      "metadata": {
        "colab": {
          "base_uri": "https://localhost:8080/"
        },
        "id": "7578eeda",
        "outputId": "9a8006f6-0bd2-44ea-c302-422dab0ab583"
      },
      "source": [
        "import requests\n",
        "from io import BytesIO\n",
        "from PIL import Image\n",
        "\n",
        "url = \"https://upload.wikimedia.org/wikipedia/commons/thumb/6/6e/Golde33443.jpg/1280px-Golde33443.jpg\"\n",
        "response = requests.get(url)\n",
        "\n",
        "# Check the content type\n",
        "print(f\"Content Type: {response.headers['Content-Type']}\")\n",
        "\n",
        "# Try to open the image and catch the error\n",
        "try:\n",
        "    img = Image.open(BytesIO(response.content))\n",
        "    print(\"Image opened successfully!\")\n",
        "except Exception as e:\n",
        "    print(f\"Error opening image: {e}\")\n",
        "\n",
        "# Optional: Save the content to a file to inspect it\n",
        "# with open(\"downloaded_content.jpg\", \"wb\") as f:\n",
        "#     f.write(response.content)\n",
        "# print(\"Content saved to downloaded_content.jpg for inspection.\")"
      ],
      "execution_count": null,
      "outputs": [
        {
          "output_type": "stream",
          "name": "stdout",
          "text": [
            "Content Type: text/plain\n",
            "Error opening image: cannot identify image file <_io.BytesIO object at 0x7ddb51417e70>\n"
          ]
        }
      ]
    }
  ]
}